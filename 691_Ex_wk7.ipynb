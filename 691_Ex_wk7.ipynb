{
 "cells": [
  {
   "cell_type": "code",
   "execution_count": 18,
   "metadata": {},
   "outputs": [],
   "source": [
    "#imports\n",
    "%matplotlib inline\n",
    "import matplotlib.pyplot as plt\n",
    "import numpy as np \n",
    "import pandas as pd\n",
    "from sklearn.cluster import KMeans"
   ]
  },
  {
   "cell_type": "markdown",
   "metadata": {},
   "source": [
    "#### In class Exercise\n",
    "1. Produce an optimal k-means clustering for the following dataset [18, 17, 5, 13, 10, 15, 19, 14,  3, 12, 8, 7, 1, 11, 16, 4, 9, 6, 20, 2] using 2 clusters and initial centroids q1 and q3 (quartiles 1 and 3)."
   ]
  },
  {
   "cell_type": "code",
   "execution_count": 16,
   "metadata": {},
   "outputs": [],
   "source": [
    "d = np.array([18, 17, 5, 13, 10, 15, 19, 14, 3, 12, 8, 7, 1, 11, 16, 4, 9, 6, 20, 2])\n",
    "y = np.ones(d.size)\n",
    "X = np.c_[d,y]"
   ]
  },
  {
   "cell_type": "code",
   "execution_count": 28,
   "metadata": {},
   "outputs": [
    {
     "data": {
      "text/plain": [
       "<matplotlib.collections.PathCollection at 0x122562240>"
      ]
     },
     "execution_count": 28,
     "metadata": {},
     "output_type": "execute_result"
    },
    {
     "data": {
      "image/png": "[encoded data removed]",
      "text/plain": [
       "<Figure size 432x288 with 1 Axes>"
      ]
     },
     "metadata": {
      "needs_background": "light"
     },
     "output_type": "display_data"
    }
   ],
   "source": [
    "# get q1 and q3\n",
    "q1, q3 = np.percentile(X,[25,75])\n",
    "#plot array/vector\n",
    "plt.scatter(X[:, 0], X[:, 1], s=50)\n",
    "#plot quartiles\n",
    "plt.scatter([q1,q3], [1,1], c='black', alpha = 0.5)"
   ]
  },
  {
   "cell_type": "code",
   "execution_count": 30,
   "metadata": {},
   "outputs": [],
   "source": [
    "km = KMeans(n_clusters=2)\n",
    "km.fit(X)\n",
    "y_kmeans=km.predict(X)"
   ]
  },
  {
   "cell_type": "code",
   "execution_count": 33,
   "metadata": {},
   "outputs": [
    {
     "data": {
      "text/plain": [
       "<matplotlib.collections.PathCollection at 0x123141780>"
      ]
     },
     "execution_count": 33,
     "metadata": {},
     "output_type": "execute_result"
    },
    {
     "data": {
      "image/png": "[encoded data removed]",
      "text/plain": [
       "<Figure size 432x288 with 1 Axes>"
      ]
     },
     "metadata": {
      "needs_background": "light"
     },
     "output_type": "display_data"
    }
   ],
   "source": [
    "plt.scatter(X[:,0], X[:, 1],c=y_kmeans,\n",
    "            s=50, cmap='viridis')\n",
    "centers=km.cluster_centers_\n",
    "plt.scatter(centers[:,0], centers[:, 1], c='black',\n",
    "            alpha=.5)"
   ]
  },
  {
   "cell_type": "markdown",
   "metadata": {},
   "source": [
    "3) Use the following dataset to generate a k-means clustering of your data into k-clusters. Select a k of 2 to start. Describe your final clusters as suggested in the examples. http://lib.stat.cmu.edu/DASL/Stories/EconomicsofCities.html"
   ]
  },
  {
   "cell_type": "code",
   "execution_count": 35,
   "metadata": {},
   "outputs": [],
   "source": [
    "# load in dataset \n",
    "pe = pd.read_csv('datasets/prices-and-earnings.csv', sep='\\t')"
   ]
  },
  {
   "cell_type": "code",
   "execution_count": 38,
   "metadata": {},
   "outputs": [
    {
     "data": {
      "text/html": [
       "<div>\n",
       "<style scoped>\n",
       "    .dataframe tbody tr th:only-of-type {\n",
       "        vertical-align: middle;\n",
       "    }\n",
       "\n",
       "    .dataframe tbody tr th {\n",
       "        vertical-align: top;\n",
       "    }\n",
       "\n",
       "    .dataframe thead th {\n",
       "        text-align: right;\n",
       "    }\n",
       "</style>\n",
       "<table border=\"1\" class=\"dataframe\">\n",
       "  <thead>\n",
       "    <tr style=\"text-align: right;\">\n",
       "      <th></th>\n",
       "      <th>City</th>\n",
       "      <th>Food Costs($)</th>\n",
       "      <th>Womens Clothing($)</th>\n",
       "      <th>Mens Clothing($)</th>\n",
       "      <th>iPhone 4S(hr)</th>\n",
       "      <th>Clothing Index</th>\n",
       "      <th>Hours Worked</th>\n",
       "      <th>Wage Gross</th>\n",
       "      <th>Wage Net</th>\n",
       "      <th>Vacation Days</th>\n",
       "      <th>...</th>\n",
       "      <th>COL (incl. rent)</th>\n",
       "      <th>Pur Power Gross</th>\n",
       "      <th>Pur Power Net</th>\n",
       "      <th>Pur Power Annual</th>\n",
       "      <th>Big Mac(min)</th>\n",
       "      <th>Bread(kg in min)</th>\n",
       "      <th>Rice(kg in min)</th>\n",
       "      <th>Goods and Services($)</th>\n",
       "      <th>Good and Services Index</th>\n",
       "      <th>Food  Index</th>\n",
       "    </tr>\n",
       "  </thead>\n",
       "  <tbody>\n",
       "    <tr>\n",
       "      <th>0</th>\n",
       "      <td>Amsterdam</td>\n",
       "      <td>364</td>\n",
       "      <td>690</td>\n",
       "      <td>1040</td>\n",
       "      <td>44.5</td>\n",
       "      <td>110.8</td>\n",
       "      <td>1755</td>\n",
       "      <td>78.3</td>\n",
       "      <td>69.4</td>\n",
       "      <td>24</td>\n",
       "      <td>...</td>\n",
       "      <td>69.0</td>\n",
       "      <td>101.6</td>\n",
       "      <td>90.1</td>\n",
       "      <td>75.7</td>\n",
       "      <td>16</td>\n",
       "      <td>7</td>\n",
       "      <td>9</td>\n",
       "      <td>3034</td>\n",
       "      <td>77.0</td>\n",
       "      <td>66.0</td>\n",
       "    </tr>\n",
       "    <tr>\n",
       "      <th>1</th>\n",
       "      <td>Athens</td>\n",
       "      <td>390</td>\n",
       "      <td>630</td>\n",
       "      <td>1110</td>\n",
       "      <td>86.0</td>\n",
       "      <td>112.5</td>\n",
       "      <td>1822</td>\n",
       "      <td>41.4</td>\n",
       "      <td>40.0</td>\n",
       "      <td>23</td>\n",
       "      <td>...</td>\n",
       "      <td>58.1</td>\n",
       "      <td>62.6</td>\n",
       "      <td>60.5</td>\n",
       "      <td>52.1</td>\n",
       "      <td>30</td>\n",
       "      <td>13</td>\n",
       "      <td>26</td>\n",
       "      <td>2605</td>\n",
       "      <td>66.1</td>\n",
       "      <td>70.7</td>\n",
       "    </tr>\n",
       "    <tr>\n",
       "      <th>2</th>\n",
       "      <td>Auckland</td>\n",
       "      <td>497</td>\n",
       "      <td>560</td>\n",
       "      <td>670</td>\n",
       "      <td>51.0</td>\n",
       "      <td>79.2</td>\n",
       "      <td>1852</td>\n",
       "      <td>59.8</td>\n",
       "      <td>63.5</td>\n",
       "      <td>20</td>\n",
       "      <td>...</td>\n",
       "      <td>67.7</td>\n",
       "      <td>78.0</td>\n",
       "      <td>82.9</td>\n",
       "      <td>74.8</td>\n",
       "      <td>16</td>\n",
       "      <td>17</td>\n",
       "      <td>8</td>\n",
       "      <td>3019</td>\n",
       "      <td>76.7</td>\n",
       "      <td>90.0</td>\n",
       "    </tr>\n",
       "    <tr>\n",
       "      <th>3</th>\n",
       "      <td>Bangkok</td>\n",
       "      <td>422</td>\n",
       "      <td>400</td>\n",
       "      <td>600</td>\n",
       "      <td>165.0</td>\n",
       "      <td>64.2</td>\n",
       "      <td>2312</td>\n",
       "      <td>14.6</td>\n",
       "      <td>17.4</td>\n",
       "      <td>7</td>\n",
       "      <td>...</td>\n",
       "      <td>48.1</td>\n",
       "      <td>26.5</td>\n",
       "      <td>31.4</td>\n",
       "      <td>33.7</td>\n",
       "      <td>36</td>\n",
       "      <td>26</td>\n",
       "      <td>20</td>\n",
       "      <td>2178</td>\n",
       "      <td>55.3</td>\n",
       "      <td>76.5</td>\n",
       "    </tr>\n",
       "    <tr>\n",
       "      <th>4</th>\n",
       "      <td>Barcelona</td>\n",
       "      <td>394</td>\n",
       "      <td>580</td>\n",
       "      <td>1110</td>\n",
       "      <td>52.5</td>\n",
       "      <td>109.2</td>\n",
       "      <td>1761</td>\n",
       "      <td>59.6</td>\n",
       "      <td>58.7</td>\n",
       "      <td>29</td>\n",
       "      <td>...</td>\n",
       "      <td>65.6</td>\n",
       "      <td>79.7</td>\n",
       "      <td>78.6</td>\n",
       "      <td>66.8</td>\n",
       "      <td>19</td>\n",
       "      <td>12</td>\n",
       "      <td>6</td>\n",
       "      <td>2941</td>\n",
       "      <td>74.7</td>\n",
       "      <td>71.3</td>\n",
       "    </tr>\n",
       "  </tbody>\n",
       "</table>\n",
       "<p>5 rows × 21 columns</p>\n",
       "</div>"
      ],
      "text/plain": [
       "        City  Food Costs($)  Womens Clothing($)  Mens Clothing($)  \\\n",
       "0  Amsterdam            364                 690              1040   \n",
       "1     Athens            390                 630              1110   \n",
       "2   Auckland            497                 560               670   \n",
       "3    Bangkok            422                 400               600   \n",
       "4  Barcelona            394                 580              1110   \n",
       "\n",
       "   iPhone 4S(hr)  Clothing Index  Hours Worked  Wage Gross  Wage Net  \\\n",
       "0           44.5           110.8          1755        78.3      69.4   \n",
       "1           86.0           112.5          1822        41.4      40.0   \n",
       "2           51.0            79.2          1852        59.8      63.5   \n",
       "3          165.0            64.2          2312        14.6      17.4   \n",
       "4           52.5           109.2          1761        59.6      58.7   \n",
       "\n",
       "   Vacation Days  ...  COL (incl. rent)  Pur Power Gross  Pur Power Net  \\\n",
       "0             24  ...              69.0            101.6           90.1   \n",
       "1             23  ...              58.1             62.6           60.5   \n",
       "2             20  ...              67.7             78.0           82.9   \n",
       "3              7  ...              48.1             26.5           31.4   \n",
       "4             29  ...              65.6             79.7           78.6   \n",
       "\n",
       "   Pur Power Annual  Big Mac(min)  Bread(kg in min)  Rice(kg in min)  \\\n",
       "0              75.7            16                 7                9   \n",
       "1              52.1            30                13               26   \n",
       "2              74.8            16                17                8   \n",
       "3              33.7            36                26               20   \n",
       "4              66.8            19                12                6   \n",
       "\n",
       "   Goods and Services($)  Good and Services Index  Food  Index  \n",
       "0                   3034                     77.0         66.0  \n",
       "1                   2605                     66.1         70.7  \n",
       "2                   3019                     76.7         90.0  \n",
       "3                   2178                     55.3         76.5  \n",
       "4                   2941                     74.7         71.3  \n",
       "\n",
       "[5 rows x 21 columns]"
      ]
     },
     "execution_count": 38,
     "metadata": {},
     "output_type": "execute_result"
    }
   ],
   "source": [
    "pe.head()"
   ]
  },
  {
   "cell_type": "code",
   "execution_count": null,
   "metadata": {},
   "outputs": [],
   "source": [
    "km2 = KMeans(n_clusters=2)\n",
    "km2.fit(pe)\n",
    "y_kmeans=km2.predict(pe)"
   ]
  }
 ],
 "metadata": {
  "kernelspec": {
   "display_name": "Python 3",
   "language": "python",
   "name": "python3"
  },
  "language_info": {
   "codemirror_mode": {
    "name": "ipython",
    "version": 3
   },
   "file_extension": ".py",
   "mimetype": "text/x-python",
   "name": "python",
   "nbconvert_exporter": "python",
   "pygments_lexer": "ipython3",
   "version": "3.7.0b5"
  }
 },
 "nbformat": 4,
 "nbformat_minor": 2
}
